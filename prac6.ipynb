{
 "cells": [
  {
   "cell_type": "markdown",
   "id": "5a15050c-441b-4be2-bea4-325c9c36c146",
   "metadata": {},
   "source": [
    "## 1) WAP to enter value in tuple and reverse tuple"
   ]
  },
  {
   "cell_type": "code",
   "execution_count": 2,
   "id": "a14c679a-91d0-45c0-a1bf-861fcaba2cc6",
   "metadata": {},
   "outputs": [
    {
     "name": "stdout",
     "output_type": "stream",
     "text": [
      "Enter n 5\n",
      "Enter value:  1\n",
      "Enter value:  2\n",
      "Enter value:  3\n",
      "Enter value:  4\n",
      "Enter value:  5\n"
     ]
    },
    {
     "name": "stdout",
     "output_type": "stream",
     "text": [
      "OG tuple:  (1, 2, 3, 4, 5)\n",
      "reverse tup:  (5, 4, 3, 2, 1)\n"
     ]
    }
   ],
   "source": [
    "n = int(input(\"Enter n\"))\n",
    "\n",
    "l1 = []\n",
    "\n",
    "for i in range(n):\n",
    "    l1.append(int(input(\"Enter value: \")))\n",
    "t1 = tuple(l1)\n",
    "\n",
    "print(\"OG tuple: \",t1)\n",
    "print(\"reverse tup: \", t1[::-1])"
   ]
  },
  {
   "cell_type": "markdown",
   "id": "fcfdfd9f-9a18-4e52-91ae-94837fb92dc9",
   "metadata": {},
   "source": [
    "## 2) WAP to remove duplicate values from tuple"
   ]
  },
  {
   "cell_type": "code",
   "execution_count": 20,
   "id": "2acd3fea-6591-4435-bc66-a7b258651bdf",
   "metadata": {},
   "outputs": [
    {
     "name": "stdout",
     "output_type": "stream",
     "text": [
      "Enter n 5\n",
      "Enter value:  1\n",
      "Enter value:  2\n",
      "Enter value:  3\n",
      "Enter value:  4\n",
      "Enter value:  5\n"
     ]
    },
    {
     "name": "stdout",
     "output_type": "stream",
     "text": [
      "updated tup:  (1, 2, 3, 4, 5)\n"
     ]
    }
   ],
   "source": [
    "n = int(input(\"Enter n\"))\n",
    "l1 = []\n",
    "for i in range(n):\n",
    "    l1.append(int(input(\"Enter value: \")))\n",
    "\n",
    "t1 = tuple(l1)\n",
    "l2 = []\n",
    "for i in t1:\n",
    "    if i not in l2:\n",
    "        l2.append(i)\n",
    "t1 = tuple(l2)\n",
    "\n",
    "print(\"updated tup: \", t1)"
   ]
  },
  {
   "cell_type": "markdown",
   "id": "be7a9b89-9f9f-48aa-9b33-2990e3879bfd",
   "metadata": {},
   "source": [
    "## 3) WAP to check if tuple is distinct or not"
   ]
  },
  {
   "cell_type": "code",
   "execution_count": 22,
   "id": "bf3fa2a8-3250-4c63-8a1f-33e214e8bc73",
   "metadata": {},
   "outputs": [
    {
     "name": "stdout",
     "output_type": "stream",
     "text": [
      "Enter n:  5\n",
      "Enter value:  1\n",
      "Enter value:  2\n",
      "Enter value:  3\n",
      "Enter value:  4\n",
      "Enter value:  5\n"
     ]
    },
    {
     "name": "stdout",
     "output_type": "stream",
     "text": [
      "The tuple is distinct.\n"
     ]
    }
   ],
   "source": [
    "n = int(input(\"Enter n: \"))\n",
    "l1 = []\n",
    "\n",
    "for i in range(n):\n",
    "    l1.append(int(input(\"Enter value: \")))\n",
    "\n",
    "t1 = tuple(l1)\n",
    "\n",
    "flag = True\n",
    "for i in range(len(t1)):\n",
    "    if t1.count(t1[i]) > 1:\n",
    "        flag = False\n",
    "        break\n",
    "\n",
    "if flag:\n",
    "    print(\"The tuple is distinct.\")\n",
    "else:\n",
    "    print(\"The tuple is not distinct.\")\n"
   ]
  },
  {
   "cell_type": "markdown",
   "id": "cb2f491c-545f-4eef-99e6-cab8f4135a56",
   "metadata": {},
   "source": [
    "## 4)WAP to find tuples with positive elemets in the list of tuple"
   ]
  },
  {
   "cell_type": "code",
   "execution_count": 29,
   "id": "e58d6c8c-a57c-43fa-a741-022f14b1c6d6",
   "metadata": {},
   "outputs": [
    {
     "name": "stdout",
     "output_type": "stream",
     "text": [
      "Enter n 5\n",
      "Enter value:  5\n",
      "Enter value:  10\n",
      "Enter value:  15\n",
      "Enter value:  20\n",
      "Enter value:  25\n",
      "Enter a number to divide by:  5\n"
     ]
    },
    {
     "name": "stdout",
     "output_type": "stream",
     "text": [
      "All number are divisible by k\n",
      "OG tuple:  (5, 10, 15, 20, 25)\n"
     ]
    }
   ],
   "source": [
    "n = int(input(\"Enter n\"))\n",
    "\n",
    "l1 = []\n",
    "\n",
    "for i in range(n):\n",
    "    l1.append(int(input(\"Enter value: \")))\n",
    "t1 = tuple(l1)\n",
    "k = int(input(\"Enter a number to divide by: \"))\n",
    "for i in t1:\n",
    "    if i % k ==0:\n",
    "        flag = True\n",
    "    else:\n",
    "        flag = False\n",
    "\n",
    "if flag:\n",
    "    print(\"All number are divisible by k\")\n",
    "else:\n",
    "    print(\"All number are not divisible by k\")\n",
    "    \n",
    "print(\"OG tuple: \",t1)\n"
   ]
  },
  {
   "cell_type": "code",
   "execution_count": null,
   "id": "9d09466e-35f9-4c23-aab0-43c8246f7239",
   "metadata": {},
   "outputs": [
    {
     "name": "stdout",
     "output_type": "stream",
     "text": [
      "Enter the number of tuples:  2\n",
      "Enter the elements of tuple 1 separated by space:  2 \n",
      "Enter the elements of tuple 2 separated by space:  \n"
     ]
    }
   ],
   "source": [
    "n = int(input(\"Enter the number of tuples: \"))\n",
    "\n",
    "tuple_list = []\n",
    "\n",
    "for i in range(n):\n",
    "    tup = tuple(map(int, input(\"Enter the elements of tuple {} separated by space: \".format(i + 1)).split()))\n",
    "    tuple_list.append(tup)\n",
    "\n",
    "k = int(input(\"Enter the value of k: \"))\n",
    "\n",
    "result = [tup for tup in tuple_list if all(element % k == 0 for element in tup)]\n",
    "\n",
    "print(\"Tuples with all elements divisible by {}: {}\".format(k, result))\n"
   ]
  },
  {
   "cell_type": "markdown",
   "id": "52f8b9d2-4269-447f-bac9-922a5841e8e2",
   "metadata": {},
   "source": [
    "## 5) WAP To find tuple that have all elements divisible by k from list of tuple "
   ]
  },
  {
   "cell_type": "code",
   "execution_count": null,
   "id": "a80d9886-4549-4746-8ab0-359533d8c49c",
   "metadata": {},
   "outputs": [],
   "source": []
  }
 ],
 "metadata": {
  "kernelspec": {
   "display_name": "Python 3 (ipykernel)",
   "language": "python",
   "name": "python3"
  },
  "language_info": {
   "codemirror_mode": {
    "name": "ipython",
    "version": 3
   },
   "file_extension": ".py",
   "mimetype": "text/x-python",
   "name": "python",
   "nbconvert_exporter": "python",
   "pygments_lexer": "ipython3",
   "version": "3.13.0"
  }
 },
 "nbformat": 4,
 "nbformat_minor": 5
}
