{
 "cells": [
  {
   "cell_type": "markdown",
   "id": "879273a6-2c2d-4b0a-b056-66d338c8af17",
   "metadata": {},
   "source": [
    "## 1) WAP to find duplicate character in a string"
   ]
  },
  {
   "cell_type": "code",
   "execution_count": 22,
   "id": "0b4a9ad9-b377-4e77-a9e8-ebe8898733f6",
   "metadata": {},
   "outputs": [
    {
     "name": "stdin",
     "output_type": "stream",
     "text": [
      "Enter a string asnm\n"
     ]
    },
    {
     "name": "stdout",
     "output_type": "stream",
     "text": [
      "set()\n"
     ]
    }
   ],
   "source": [
    "str = input(\"Enter a string\")\n",
    "seen = set()\n",
    "dup = set()\n",
    "\n",
    "for char in str:\n",
    "    if char in seen:\n",
    "        dup.add(char)\n",
    "    else:\n",
    "        seen.add(char)\n",
    "print(dup)"
   ]
  },
  {
   "cell_type": "markdown",
   "id": "2cb2d003-bf8f-4dd2-9014-b74feba9340a",
   "metadata": {},
   "source": [
    "## 2)WAP to capitalize the first and last character of each word in string"
   ]
  },
  {
   "cell_type": "code",
   "execution_count": 63,
   "id": "37d0c0cf-cb69-40ff-b13c-0c3ace998fec",
   "metadata": {},
   "outputs": [
    {
     "name": "stdin",
     "output_type": "stream",
     "text": [
      "Enter a string hello world\n"
     ]
    },
    {
     "name": "stdout",
     "output_type": "stream",
     "text": [
      "h ell o\n",
      "['HellO']\n",
      "w orl d\n",
      "['HellO', 'WorlD']\n",
      "HellO WorlD\n"
     ]
    }
   ],
   "source": [
    "s = input(\"Enter a string\")\n",
    "a = s.split()\n",
    "str1 = []\n",
    "for i in a:\n",
    "    x = i[0].upper()+i[1:-1]+i[-1].upper()\n",
    "    print(i[0], i[1:-1], i[-1])\n",
    "    str1.append(x)\n",
    "str1 = \" \".join(str1)\n",
    "print(str1)"
   ]
  },
  {
   "cell_type": "markdown",
   "id": "4fee2487-5eec-4a10-ae2f-c5bead2514fd",
   "metadata": {},
   "source": [
    "## 3) WAP to print pattern (a)"
   ]
  },
  {
   "cell_type": "code",
   "execution_count": 108,
   "id": "10885ad3-ea3d-49c6-9d3f-152625ead12f",
   "metadata": {},
   "outputs": [
    {
     "name": "stdin",
     "output_type": "stream",
     "text": [
      "Enter n:  5\n"
     ]
    },
    {
     "name": "stdout",
     "output_type": "stream",
     "text": [
      "            *   \n",
      "         *  *   \n",
      "      *  *  *   \n",
      "   *  *  *  *   \n",
      "*  *  *  *  *   \n"
     ]
    }
   ],
   "source": [
    "rows = int(input(\"Enter n: \"))\n",
    "a = rows\n",
    "for i in range(1, rows+1):\n",
    "    a -= 1\n",
    "    for j in range(0, a):\n",
    "        print(\"  \",end=\" \")\n",
    "    for k in range(1, i + 1):\n",
    "        print(\"* \", end=\" \")\n",
    "    print(\" \")\n"
   ]
  },
  {
   "cell_type": "markdown",
   "id": "7bcce505-3f6d-4ba5-9969-0ac2180491f3",
   "metadata": {},
   "source": [
    "## (b)"
   ]
  },
  {
   "cell_type": "code",
   "execution_count": 113,
   "id": "3fcdb9bd-3b2e-454a-936a-331bf553b22a",
   "metadata": {},
   "outputs": [
    {
     "name": "stdin",
     "output_type": "stream",
     "text": [
      "Enter n:  5\n"
     ]
    },
    {
     "name": "stdout",
     "output_type": "stream",
     "text": [
      "         *   \n",
      "       *   *   \n",
      "     *   *   *   \n",
      "   *   *   *   *   \n",
      " *   *   *   *   *   \n"
     ]
    }
   ],
   "source": [
    "rows = int(input(\"Enter n: \"))\n",
    "a = rows\n",
    "for i in range(1, rows+1):\n",
    "    a -= 1\n",
    "    for j in range(a, 0, -1):\n",
    "        print(\" \",end=\" \")\n",
    "    for k in range(1, i + 1):\n",
    "        print(\" * \", end=\" \")\n",
    "    print(\" \")\n"
   ]
  },
  {
   "cell_type": "markdown",
   "id": "69f3e202-0b4c-402b-9bae-8a8268a38d83",
   "metadata": {},
   "source": [
    "## 4) WAP to check string in binary or not using one line logic"
   ]
  },
  {
   "cell_type": "code",
   "execution_count": 117,
   "id": "714c214b-b122-4bcf-9223-0e3349b8e03a",
   "metadata": {},
   "outputs": [
    {
     "name": "stdin",
     "output_type": "stream",
     "text": [
      "Enter a string:  10101010010100\n"
     ]
    },
    {
     "name": "stdout",
     "output_type": "stream",
     "text": [
      "The string is binary.\n"
     ]
    }
   ],
   "source": [
    "binary_string = input(\"Enter a string: \")\n",
    "is_binary = True\n",
    "\n",
    "for char in binary_string:\n",
    "    if char != '0' and char != '1':\n",
    "        is_binary = False\n",
    "        break\n",
    "if is_binary:\n",
    "    print(\"The string is binary.\")\n",
    "else:\n",
    "    print(\"The string is not binary.\")\n"
   ]
  },
  {
   "cell_type": "markdown",
   "id": "6cd43bad-c104-4d06-8064-3e02866fff9e",
   "metadata": {},
   "source": [
    "## 6) WAP to print all the even numbers from a list entered by user"
   ]
  },
  {
   "cell_type": "code",
   "execution_count": 4,
   "id": "9aaa33a0-baa7-44a0-bfc9-a48f5ee8c3f9",
   "metadata": {},
   "outputs": [
    {
     "name": "stdin",
     "output_type": "stream",
     "text": [
      "Enter n:  5\n",
      "Enter val::  1\n",
      "Enter val::  2\n",
      "Enter val::  3\n",
      "Enter val::  4\n",
      "Enter val::  5\n"
     ]
    },
    {
     "name": "stdout",
     "output_type": "stream",
     "text": [
      "2\n",
      "4\n"
     ]
    }
   ],
   "source": [
    "n = int(input(\"Enter n: \"))\n",
    "\n",
    "l1 = []\n",
    "\n",
    "for i in range(n):\n",
    "    val = int(input(\"Enter val:: \"))\n",
    "    l1.append(val)\n",
    "\n",
    "for i in l1:\n",
    "    if i % 2 == 0:\n",
    "        print(i, end=\",\")\n"
   ]
  },
  {
   "cell_type": "markdown",
   "id": "425ac97a-43ae-4562-99b1-67e4ad010af8",
   "metadata": {},
   "source": [
    "## 7) WAP To Search an element in a list"
   ]
  },
  {
   "cell_type": "code",
   "execution_count": 19,
   "id": "fdca217e-fc23-4268-b441-836c26dc7c71",
   "metadata": {},
   "outputs": [
    {
     "name": "stdin",
     "output_type": "stream",
     "text": [
      "Enter n:  5\n",
      "Enter val::  1\n",
      "Enter val::  2\n",
      "Enter val::  3\n",
      "Enter val::  4\n",
      "Enter val::  5\n",
      "Enter val to find::  2\n"
     ]
    },
    {
     "name": "stdout",
     "output_type": "stream",
     "text": [
      "Element found\n"
     ]
    }
   ],
   "source": [
    "n = int(input(\"Enter n: \"))\n",
    "\n",
    "l1 = []\n",
    "\n",
    "for i in range(n):\n",
    "    val = int(input(\"Enter val:: \"))\n",
    "    l1.append(val)\n",
    "\n",
    "fin = int(input(\"Enter val to find:: \"))\n",
    "\n",
    "if fin in l1:\n",
    "    print(\"Element found\")\n",
    "else:\n",
    "    print(\"Element not found\")"
   ]
  },
  {
   "cell_type": "markdown",
   "id": "e5214315-8161-45b2-abed-c71862040601",
   "metadata": {},
   "source": [
    "## 8) WAP to sort a list in accending order"
   ]
  },
  {
   "cell_type": "code",
   "execution_count": 22,
   "id": "03110bbd-2baf-41b9-bdf0-9e4e247d3232",
   "metadata": {},
   "outputs": [
    {
     "name": "stdin",
     "output_type": "stream",
     "text": [
      "Enter n:  5\n",
      "Enter val::  1\n",
      "Enter val::  2\n",
      "Enter val::  4\n",
      "Enter val::  3\n",
      "Enter val::  5\n"
     ]
    },
    {
     "name": "stdout",
     "output_type": "stream",
     "text": [
      "[1, 2, 3, 4, 5]\n"
     ]
    }
   ],
   "source": [
    "n = int(input(\"Enter n: \"))\n",
    "l1 = []\n",
    "for i in range(n):\n",
    "    val = int(input(\"Enter val:: \"))\n",
    "    l1.append(val)\n",
    "l1.sort()\n",
    "print(l1)\n"
   ]
  },
  {
   "cell_type": "markdown",
   "id": "1362f419-477d-4bfc-8fd2-2b1498c28b5c",
   "metadata": {},
   "source": [
    "## 9) WAP to convert list of character entered by user to string"
   ]
  },
  {
   "cell_type": "code",
   "execution_count": 27,
   "id": "0a658d63-ef1b-4319-8261-21ab59044d95",
   "metadata": {},
   "outputs": [
    {
     "name": "stdin",
     "output_type": "stream",
     "text": [
      "Enter n:  5\n",
      "Enter val:: a\n",
      "Enter val:: r\n",
      "Enter val:: y\n",
      "Enter val:: a\n",
      "Enter val:: n\n"
     ]
    },
    {
     "name": "stdout",
     "output_type": "stream",
     "text": [
      "aryan\n"
     ]
    }
   ],
   "source": [
    "n = int(input(\"Enter n: \"))\n",
    "l1 = []\n",
    "for i in range(n):\n",
    "    l1.append(input(\"Enter val::\"))\n",
    "print(\"\".join(l1))\n"
   ]
  },
  {
   "cell_type": "markdown",
   "id": "66f67c5d-1122-43e2-b3e1-02437e0f9854",
   "metadata": {},
   "source": [
    "## 10) WAP to interchange a list element based on two position enterd by the user"
   ]
  },
  {
   "cell_type": "code",
   "execution_count": 33,
   "id": "c7434a96-c80c-4ce5-80e3-026bda298d93",
   "metadata": {},
   "outputs": [
    {
     "name": "stdin",
     "output_type": "stream",
     "text": [
      "Enter the n:  5\n",
      "Enter element:  1\n",
      "Enter element:  2\n",
      "Enter element:  3\n",
      "Enter element:  4\n",
      "Enter element:  5\n",
      "Enter the 1st pos:  2\n",
      "Enter the 2nd pos:  3\n"
     ]
    },
    {
     "name": "stdout",
     "output_type": "stream",
     "text": [
      "3 4\n",
      "Updated list: [1, 2, 3, 4, 5]\n"
     ]
    }
   ],
   "source": [
    "n = int(input(\"Enter the n: \"))\n",
    "\n",
    "l1 = []\n",
    "\n",
    "for i in range(n):\n",
    "    l1.append(int(input(\"Enter element: \")))\n",
    "\n",
    "pos1 = int(input(\"Enter the 1st pos: \"))\n",
    "pos2 = int(input(\"Enter the 2nd pos: \"))\n",
    "\n",
    "l1[pos1], l1[pos2] = l1[pos2], l1[pos1]\n",
    "print(l1[pos1], l1[pos2])\n",
    "print(\"Updated list:\", l1)\n"
   ]
  },
  {
   "cell_type": "markdown",
   "id": "b71842ad-5676-445e-8f4b-496b46a21838",
   "metadata": {},
   "source": [
    "## 11) print all odd number entered by the user from a list"
   ]
  },
  {
   "cell_type": "code",
   "execution_count": 34,
   "id": "a59e5745-14b5-4de2-a31b-8495154b85f0",
   "metadata": {},
   "outputs": [
    {
     "name": "stdin",
     "output_type": "stream",
     "text": [
      "Enter n:  5\n",
      "Enter val::  1\n",
      "Enter val::  2\n",
      "Enter val::  3\n",
      "Enter val::  4\n",
      "Enter val::  5\n"
     ]
    },
    {
     "name": "stdout",
     "output_type": "stream",
     "text": [
      "1,3,5,"
     ]
    }
   ],
   "source": [
    "n = int(input(\"Enter n: \"))\n",
    "\n",
    "l1 = []\n",
    "\n",
    "for i in range(n):\n",
    "    val = int(input(\"Enter val:: \"))\n",
    "    l1.append(val)\n",
    "\n",
    "for i in l1:\n",
    "    if i % 2 != 0:\n",
    "        print(i, end=\",\")\n"
   ]
  },
  {
   "cell_type": "markdown",
   "id": "8fbd3ed4-c19c-455f-9d46-38ccecb70cab",
   "metadata": {},
   "source": [
    "## 12) WAP to enter the name, quantity and price of 5 products by user and generate and print all the details with the products total amount in a formatted manner using list"
   ]
  },
  {
   "cell_type": "code",
   "execution_count": 36,
   "id": "e344135e-5bf8-46aa-9f8c-3bd48dc1aebe",
   "metadata": {},
   "outputs": [
    {
     "name": "stdin",
     "output_type": "stream",
     "text": [
      "Enter the name of product 1:  p1\n",
      "Enter the quantity of product 1:  2\n",
      "Enter the price of product 1:  23\n",
      "Enter the name of product 2:  p2\n",
      "Enter the quantity of product 2:  3\n",
      "Enter the price of product 2:  42\n",
      "Enter the name of product 3:  p3\n",
      "Enter the quantity of product 3:  23\n",
      "Enter the price of product 3:  42\n",
      "Enter the name of product 4:  p4\n",
      "Enter the quantity of product 4:  23\n",
      "Enter the price of product 4:  99\n",
      "Enter the name of product 5:  p5\n",
      "Enter the quantity of product 5:  23\n",
      "Enter the price of product 5:  00\n"
     ]
    },
    {
     "name": "stdout",
     "output_type": "stream",
     "text": [
      "\n",
      "Product Details:\n",
      "Name       Quantity   Price      Total     \n",
      "p1         2          23.0       46.0      \n",
      "p2         3          42.0       126.0     \n",
      "p3         23         42.0       966.0     \n",
      "p4         23         99.0       2277.0    \n",
      "p5         23         0.0        0.0       \n",
      "\n",
      "Total Amount: 3415.00\n"
     ]
    }
   ],
   "source": [
    "products = []\n",
    "\n",
    "for i in range(5):\n",
    "    name = input(\"Enter the name of product {}: \".format(i + 1))\n",
    "    quantity = int(input(\"Enter the quantity of product {}: \".format(i + 1)))\n",
    "    price = float(input(\"Enter the price of product {}: \".format(i + 1)))\n",
    "    products.append([name, quantity, price])\n",
    "\n",
    "total_amount = 0\n",
    "print(\"\\nProduct Details:\")\n",
    "print(\"{:<10} {:<10} {:<10} {:<10}\".format(\"Name\", \"Quantity\", \"Price\", \"Total\"))\n",
    "for product in products:\n",
    "    name, quantity, price = product\n",
    "    total = quantity * price\n",
    "    total_amount += total\n",
    "    print(\"{:<10} {:<10} {:<10} {:<10}\".format(name, quantity, price, total))\n",
    "\n",
    "print(\"\\nTotal Amount: {:.2f}\".format(total_amount))\n"
   ]
  },
  {
   "cell_type": "code",
   "execution_count": null,
   "id": "ebc904b6-53ef-4e45-8557-41d8c8ab3f55",
   "metadata": {},
   "outputs": [],
   "source": []
  }
 ],
 "metadata": {
  "kernelspec": {
   "display_name": "Python 3 (ipykernel)",
   "language": "python",
   "name": "python3"
  },
  "language_info": {
   "codemirror_mode": {
    "name": "ipython",
    "version": 3
   },
   "file_extension": ".py",
   "mimetype": "text/x-python",
   "name": "python",
   "nbconvert_exporter": "python",
   "pygments_lexer": "ipython3",
   "version": "3.13.0"
  }
 },
 "nbformat": 4,
 "nbformat_minor": 5
}
