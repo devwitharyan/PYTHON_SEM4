{
 "cells": [
  {
   "cell_type": "markdown",
   "id": "6b77e55b-e404-4337-90dc-92c75ef8ef96",
   "metadata": {},
   "source": [
    "## 1 Write a program to print hello world!"
   ]
  },
  {
   "cell_type": "code",
   "execution_count": 36,
   "id": "9011c7cf-e5b3-4c1a-9b67-423b7cfef49c",
   "metadata": {},
   "outputs": [
    {
     "name": "stdout",
     "output_type": "stream",
     "text": [
      "hello world!\n"
     ]
    }
   ],
   "source": [
    "print(\"hello world!\")"
   ]
  },
  {
   "cell_type": "markdown",
   "id": "2083893b",
   "metadata": {},
   "source": [
    "## 2.1Write a program to print your address (1) using single print"
   ]
  },
  {
   "cell_type": "code",
   "execution_count": 37,
   "id": "85361331",
   "metadata": {},
   "outputs": [
    {
     "name": "stdout",
     "output_type": "stream",
     "text": [
      "DU HOSTEL \n",
      "HADALA \n",
      "Rajkot \n",
      "363650\n"
     ]
    }
   ],
   "source": [
    "print(\"DU HOSTEL \\nHADALA \\nRajkot \\n363650\")"
   ]
  },
  {
   "cell_type": "markdown",
   "id": "16accccb-624a-4e85-85ef-6f4f5164ac19",
   "metadata": {},
   "source": [
    "## 2.2 WAP to print your address (2) using multiple print"
   ]
  },
  {
   "cell_type": "code",
   "execution_count": 38,
   "id": "238cac46-114d-47f7-829e-352afdaef7e2",
   "metadata": {},
   "outputs": [
    {
     "name": "stdout",
     "output_type": "stream",
     "text": [
      "DU HOSTEL\n",
      "hadala\n",
      "RAJKOT\n",
      "363375\n"
     ]
    }
   ],
   "source": [
    "print(\"DU HOSTEL\")\n",
    "print(\"hadala\")\n",
    "print(\"RAJKOT\")\n",
    "print(363375)"
   ]
  },
  {
   "cell_type": "markdown",
   "id": "a9939724-741f-4fda-93fe-aa6829b678ef",
   "metadata": {},
   "source": [
    "## 3 WAP to print addition of 2 number without input function"
   ]
  },
  {
   "cell_type": "code",
   "execution_count": 39,
   "id": "8c37602b-45bd-4b56-bccb-742ea456bd82",
   "metadata": {},
   "outputs": [
    {
     "name": "stdout",
     "output_type": "stream",
     "text": [
      "15\n"
     ]
    }
   ],
   "source": [
    "a = 5\n",
    "b = 10\n",
    "\n",
    "print(a+b)\n"
   ]
  },
  {
   "cell_type": "markdown",
   "id": "1eebc2fa-417b-42a0-8a96-08397706c058",
   "metadata": {},
   "source": [
    "## 4 WAP to print avg of 2 numbers without input function"
   ]
  },
  {
   "cell_type": "code",
   "execution_count": 40,
   "id": "4b3dcc84-cf0b-4034-a5e6-541a7995b718",
   "metadata": {},
   "outputs": [
    {
     "name": "stdout",
     "output_type": "stream",
     "text": [
      "7.5\n"
     ]
    }
   ],
   "source": [
    "a = 5\n",
    "b =10\n",
    "print((a+b)/2)"
   ]
  },
  {
   "cell_type": "markdown",
   "id": "0d3426d1-5789-4b76-b40d-10db14ed0ab5",
   "metadata": {},
   "source": [
    "## 5 WAP to add 2 numbers entered by user"
   ]
  },
  {
   "cell_type": "code",
   "execution_count": 41,
   "id": "6871d5c4-6e3f-4bbe-872d-e26f2d3bfd4b",
   "metadata": {},
   "outputs": [
    {
     "name": "stdin",
     "output_type": "stream",
     "text": [
      "Enter a number 5\n",
      "Enter 2nd number 5\n"
     ]
    },
    {
     "name": "stdout",
     "output_type": "stream",
     "text": [
      "10\n"
     ]
    }
   ],
   "source": [
    "a = int(input(\"Enter a number\"))\n",
    "b = int(input(\"Enter 2nd number\"))\n",
    "\n",
    "print(a+b)"
   ]
  },
  {
   "cell_type": "markdown",
   "id": "c1796f1a-2c0b-47ea-8b1d-154ac68f7869",
   "metadata": {},
   "source": [
    "## 6 WAP to find area of circle"
   ]
  },
  {
   "cell_type": "code",
   "execution_count": 43,
   "id": "11d07366-727f-44b6-94f0-dbce3260c69d",
   "metadata": {},
   "outputs": [
    {
     "name": "stdin",
     "output_type": "stream",
     "text": [
      "Enter radius 5\n"
     ]
    },
    {
     "name": "stdout",
     "output_type": "stream",
     "text": [
      "78.5\n"
     ]
    }
   ],
   "source": [
    "r = float(input(\"Enter radius\"))\n",
    "pi = 3.14\n",
    "\n",
    "print(pi*(r*r))"
   ]
  },
  {
   "cell_type": "markdown",
   "id": "ca5e0ada-9e5e-485f-a97e-3d3d87f99b26",
   "metadata": {},
   "source": [
    "## 7 WAP to enter 4 subject marks from user and find its total and %"
   ]
  },
  {
   "cell_type": "code",
   "execution_count": 17,
   "id": "171726c2-8711-408f-92f6-05d6230d1030",
   "metadata": {},
   "outputs": [
    {
     "name": "stdin",
     "output_type": "stream",
     "text": [
      "Enter marks of sub1: 10\n",
      "Enter marks of sub1: 20\n",
      "Enter marks of sub1: 30\n",
      "Enter marks of sub1: 40\n"
     ]
    },
    {
     "name": "stdout",
     "output_type": "stream",
     "text": [
      "total is: 100.0 \n",
      "Percentage: 25.0\n"
     ]
    }
   ],
   "source": [
    "sub1 = float(input(\"Enter marks of sub1:\"))\n",
    "sub2 = float(input(\"Enter marks of sub1:\"))\n",
    "sub3 = float(input(\"Enter marks of sub1:\"))\n",
    "sub4 = float(input(\"Enter marks of sub1:\"))\n",
    "total = sub1 + sub2 + sub3 + sub4\n",
    "\n",
    "perc = (total/400) * 100\n",
    "\n",
    "print(\"total is:\", total, \"\\nPercentage:\", perc)\n"
   ]
  },
  {
   "cell_type": "markdown",
   "id": "5beb8f3b-c594-46a2-8770-a4c717ca553c",
   "metadata": {},
   "source": [
    "## 8 WAP to calc area of triangle"
   ]
  },
  {
   "cell_type": "code",
   "execution_count": 21,
   "id": "a7571d92-dec7-469a-a901-431ed823f5a4",
   "metadata": {},
   "outputs": [
    {
     "name": "stdin",
     "output_type": "stream",
     "text": [
      "Enter height 5\n",
      "Enter breath 5\n"
     ]
    },
    {
     "name": "stdout",
     "output_type": "stream",
     "text": [
      "area: 12.5\n"
     ]
    }
   ],
   "source": [
    "h = float(input(\"Enter height\"))\n",
    "b = float(input(\"Enter breath\"))\n",
    "\n",
    "print(\"area:\", ((0.5)*h*b))"
   ]
  },
  {
   "cell_type": "markdown",
   "id": "f7199186-6b64-4b33-92c7-c1e870d1935d",
   "metadata": {},
   "source": [
    "## 9 WAP to calc area of rectangle"
   ]
  },
  {
   "cell_type": "code",
   "execution_count": 20,
   "id": "912be64b-8748-4a84-ab7e-a9a99df03d85",
   "metadata": {},
   "outputs": [
    {
     "name": "stdin",
     "output_type": "stream",
     "text": [
      "Enter length 5\n",
      "Enter breath 5\n"
     ]
    },
    {
     "name": "stdout",
     "output_type": "stream",
     "text": [
      "area: 25.0\n"
     ]
    }
   ],
   "source": [
    "l = float(input(\"Enter length\"))\n",
    "b = float(input(\"Enter breath\"))\n",
    "\n",
    "print(\"area:\", l*b)"
   ]
  },
  {
   "cell_type": "markdown",
   "id": "925ddb50-cfb9-4d60-b641-da0933ae9b1f",
   "metadata": {},
   "source": [
    "## 10 WAP to calculate SI"
   ]
  },
  {
   "cell_type": "code",
   "execution_count": 23,
   "id": "2f64c670-69ca-46c9-95d2-2ab3866f355a",
   "metadata": {},
   "outputs": [
    {
     "name": "stdin",
     "output_type": "stream",
     "text": [
      "Enter p 10000\n",
      "Enter r 2\n",
      "Enter t 3\n"
     ]
    },
    {
     "name": "stdout",
     "output_type": "stream",
     "text": [
      "SI: 600.0\n"
     ]
    }
   ],
   "source": [
    "p = float(input(\"Enter p\"))\n",
    "r = float(input(\"Enter r\"))\n",
    "t = float(input(\"Enter t\"))\n",
    "\n",
    "print(\"SI:\", (p*r*t)/100)"
   ]
  },
  {
   "cell_type": "markdown",
   "id": "d14e0b73-52c1-4cbc-995a-d0deb1984a08",
   "metadata": {},
   "source": [
    "## 11 WAP to print mul table of a number"
   ]
  },
  {
   "cell_type": "code",
   "execution_count": 28,
   "id": "5b9c19af-5be2-4ae1-b85f-f937678b71ed",
   "metadata": {},
   "outputs": [
    {
     "name": "stdin",
     "output_type": "stream",
     "text": [
      "Enter a number 5\n"
     ]
    },
    {
     "name": "stdout",
     "output_type": "stream",
     "text": [
      "5 * 1 = 5\n",
      "5 * 2 = 10\n",
      "5 * 3 = 15\n",
      "5 * 4 = 20\n",
      "5 * 5 = 25\n",
      "5 * 6 = 30\n",
      "5 * 7 = 35\n",
      "5 * 8 = 40\n",
      "5 * 9 = 45\n",
      "5 * 10 = 50\n"
     ]
    }
   ],
   "source": [
    "num = int(input(\"Enter a number\"))\n",
    "\n",
    "print(num, \"*\", \"1\", \"=\", (num*1))\n",
    "print(num, \"*\", \"2\", \"=\", (num*2))\n",
    "print(num, \"*\", \"3\", \"=\", (num*3))\n",
    "print(num, \"*\", \"4\", \"=\", (num*4))\n",
    "print(num, \"*\", \"5\", \"=\", (num*5))\n",
    "print(num, \"*\", \"6\", \"=\", (num*6))\n",
    "print(num, \"*\", \"7\", \"=\", (num*7))\n",
    "print(num, \"*\", \"8\", \"=\", (num*8))\n",
    "print(num, \"*\", \"9\", \"=\", (num*9))\n",
    "print(num, \"*\", \"10\", \"=\", (num*10))\n"
   ]
  },
  {
   "cell_type": "markdown",
   "id": "981122e3-f845-4baa-9a49-eee311c6acc5",
   "metadata": {},
   "source": [
    "## 12 WAP to convert celcius to fehrenhiet"
   ]
  },
  {
   "cell_type": "code",
   "execution_count": 35,
   "id": "e47fa760-b6b7-4577-87c2-c4b55dd98c29",
   "metadata": {},
   "outputs": [
    {
     "name": "stdin",
     "output_type": "stream",
     "text": [
      "Enter cel: 5\n"
     ]
    },
    {
     "name": "stdout",
     "output_type": "stream",
     "text": [
      "5.0 to fehrenhiet= 41.0\n"
     ]
    },
    {
     "name": "stdin",
     "output_type": "stream",
     "text": [
      "Enter feh: 41\n"
     ]
    },
    {
     "name": "stdout",
     "output_type": "stream",
     "text": [
      "41.0 to celcius= 5.0\n"
     ]
    }
   ],
   "source": [
    "cel = float(input(\"Enter cel:\"))\n",
    "feh = (cel * 9/5) + 32\n",
    "print(cel, \"to fehrenhiet=\", feh)\n",
    "\n",
    "feh = float(input(\"Enter feh:\"))\n",
    "cel = (feh - 32) * 5/9\n",
    "print(feh, \"to celcius=\", cel)"
   ]
  },
  {
   "cell_type": "code",
   "execution_count": null,
   "id": "07699c3b-b580-4944-bd6b-2a1339d93531",
   "metadata": {},
   "outputs": [],
   "source": []
  }
 ],
 "metadata": {
  "kernelspec": {
   "display_name": "Python 3 (ipykernel)",
   "language": "python",
   "name": "python3"
  },
  "language_info": {
   "codemirror_mode": {
    "name": "ipython",
    "version": 3
   },
   "file_extension": ".py",
   "mimetype": "text/x-python",
   "name": "python",
   "nbconvert_exporter": "python",
   "pygments_lexer": "ipython3",
   "version": "3.13.0"
  }
 },
 "nbformat": 4,
 "nbformat_minor": 5
}
