{
 "cells": [
  {
   "cell_type": "markdown",
   "id": "39384b99-420f-480b-8ab0-803278f65610",
   "metadata": {},
   "source": [
    "##LAB 2\n"
   ]
  },
  {
   "cell_type": "markdown",
   "id": "9e7b22e9-9161-4d76-9080-28b21e8dddae",
   "metadata": {},
   "source": [
    "## 1) WAP TO FIND IF THE NUMBER IS NEGATIVE OR POSITIVE"
   ]
  },
  {
   "cell_type": "code",
   "execution_count": 1,
   "id": "d5371a94-7a56-4cef-8bc6-3a362e663749",
   "metadata": {},
   "outputs": [
    {
     "name": "stdin",
     "output_type": "stream",
     "text": [
      "enter a number: 5\n"
     ]
    },
    {
     "name": "stdout",
     "output_type": "stream",
     "text": [
      "Number is positive\n"
     ]
    }
   ],
   "source": [
    "num = int(input(\"enter a number:\"))\n",
    "if num > 0:\n",
    "    print(\"Number is positive\")\n",
    "elif num < 0:\n",
    "    print(\"Number is negative\")\n",
    "else:\n",
    "    print(\"Number is 0\")"
   ]
  },
  {
   "cell_type": "markdown",
   "id": "d2cda332-3b49-4548-9039-30da3f6ebfea",
   "metadata": {},
   "source": [
    "## 2) WAP TO FIND IF THE NUMBER IS ODD OR EVEN"
   ]
  },
  {
   "cell_type": "code",
   "execution_count": 3,
   "id": "d0eb0ace-2667-44bd-946d-3d420c24e353",
   "metadata": {},
   "outputs": [
    {
     "name": "stdin",
     "output_type": "stream",
     "text": [
      "enter a number: 2\n"
     ]
    },
    {
     "name": "stdout",
     "output_type": "stream",
     "text": [
      "Number is EVEN\n"
     ]
    }
   ],
   "source": [
    "num = int(input(\"enter a number:\"))\n",
    "if num%2 == 0:\n",
    "    print(\"Number is EVEN\")\n",
    "elif num%2 == 1:\n",
    "    print(\"Number is ODD\")\n",
    "else:\n",
    "    print(\"Number is 0\")"
   ]
  },
  {
   "cell_type": "markdown",
   "id": "0b18bda9-f805-41a7-8e65-01197b15fe4c",
   "metadata": {},
   "source": [
    "## 3) WAP TO FIND THE LARGEST NUMBER OUT OF GIVEN THREE NUMBERS"
   ]
  },
  {
   "cell_type": "code",
   "execution_count": 27,
   "id": "3632e0cb-518e-4ddd-9a18-7aafe33cfbe5",
   "metadata": {},
   "outputs": [
    {
     "name": "stdin",
     "output_type": "stream",
     "text": [
      "Enter number 1: 90\n",
      "Enter number 2: 20\n",
      "Enter number 3: 10\n"
     ]
    },
    {
     "name": "stdout",
     "output_type": "stream",
     "text": [
      "90  is greater\n"
     ]
    }
   ],
   "source": [
    "num1 = int(input(\"Enter number 1:\"))\n",
    "num2 = int(input(\"Enter number 2:\"))\n",
    "num3 = int(input(\"Enter number 3:\"))\n",
    "\n",
    "if num1 > num2:\n",
    "    if num1 > num3:\n",
    "        print(num1, \" is greater\")\n",
    "    else:\n",
    "        print(num3, \" is greater\")\n",
    "else:\n",
    "    if num2>num3:\n",
    "        print(num2, \" is greater\")\n",
    "    else:\n",
    "        print(num3, \" is greater\")"
   ]
  },
  {
   "cell_type": "markdown",
   "id": "47674bde-bf29-44bc-ab71-dfad295b4a32",
   "metadata": {},
   "source": [
    "## 4) WAP to display days name by number given by the user"
   ]
  },
  {
   "cell_type": "code",
   "execution_count": null,
   "id": "168a57b9-23b1-4c61-9675-8973b923648b",
   "metadata": {},
   "outputs": [],
   "source": [
    "day = int(input(\"Enter Day Number: \"))\n",
    "\n",
    "if day == 1:\n",
    "    print(\"Mon\")\n",
    "elif day == 2:\n",
    "    print(\"Tue\")\n",
    "elif day == 3:\n",
    "    print(\"Wed\")\n",
    "elif day == 4:\n",
    "    print(\"Thu\")\n",
    "elif day == 5:\n",
    "    print(\"Fri\")\n",
    "elif day == 6:\n",
    "    print(\"Sat\")\n",
    "elif day == 7:\n",
    "    print(\"Sun\")\n",
    "else:\n",
    "    print(\"Enter Valid Number\")\n"
   ]
  },
  {
   "cell_type": "markdown",
   "id": "ce39ded9-2e12-4ccc-ae9f-f6bf6fc718aa",
   "metadata": {},
   "source": [
    "## 5) WAP to Perform Multiplication, division, substraction, addition of two numbers using if else"
   ]
  },
  {
   "cell_type": "code",
   "execution_count": 34,
   "id": "8505062c-4c20-4660-bb82-813b90e8bfc2",
   "metadata": {},
   "outputs": [
    {
     "name": "stdin",
     "output_type": "stream",
     "text": [
      "Enter number 1: 10\n",
      "Enter number 2: 20\n",
      "Enter Operator : 3\n"
     ]
    },
    {
     "name": "stdout",
     "output_type": "stream",
     "text": [
      "Multiplication:  200\n"
     ]
    }
   ],
   "source": [
    "num1 = int(input(\"Enter number 1:\"))\n",
    "num2 = int(input(\"Enter number 2:\"))\n",
    "\n",
    "opr = int(input(\"Enter Operator :\"))\n",
    "\n",
    "if opr == 1:\n",
    "    print(\"addition: \", num1+num2)\n",
    "elif opr == 2:\n",
    "    print(\"Substraction: \", num1-num2)\n",
    "elif opr == 3:\n",
    "    print(\"Multiplication: \", num1*num2)\n",
    "elif opr == 4:\n",
    "    print(\"Division: \", num1/num2)\n",
    "else:\n",
    "    print(\"Enter a Valid number\")\n",
    "\n",
    "\n"
   ]
  },
  {
   "cell_type": "markdown",
   "id": "1a8d2e47-cc14-4626-8834-a84df8f2af2b",
   "metadata": {},
   "source": [
    "## 6)WAP to find largest number from given two number using ternary operator"
   ]
  },
  {
   "cell_type": "code",
   "execution_count": 37,
   "id": "92010643-5224-408f-a168-ff9ee833b727",
   "metadata": {},
   "outputs": [
    {
     "name": "stdin",
     "output_type": "stream",
     "text": [
      "Enter number 1: 30\n",
      "Enter number 2: 20\n"
     ]
    },
    {
     "name": "stdout",
     "output_type": "stream",
     "text": [
      "30\n"
     ]
    }
   ],
   "source": [
    "num1 = int(input(\"Enter number 1:\"))\n",
    "num2 = int(input(\"Enter number 2:\"))\n",
    "\n",
    "ans = num1 if num1 > num2 else num2\n",
    "print(ans);"
   ]
  },
  {
   "cell_type": "markdown",
   "id": "80c0c5b4-ff05-4b7a-aced-fe567b7f54b2",
   "metadata": {},
   "source": [
    "## 7) WAP to find largest number from given three number using ternary operator "
   ]
  },
  {
   "cell_type": "code",
   "execution_count": 39,
   "id": "fa221508-8ea0-4b42-b8a8-90a0598f1982",
   "metadata": {},
   "outputs": [
    {
     "name": "stdin",
     "output_type": "stream",
     "text": [
      "Enter first number:  10\n",
      "Enter second number:  20\n",
      "Enter third number:  30\n"
     ]
    },
    {
     "name": "stdout",
     "output_type": "stream",
     "text": [
      "The largest number is: 30.0\n"
     ]
    }
   ],
   "source": [
    "num1 = int(input(\"Enter number 1:\"))\n",
    "num2 = int(input(\"Enter number 2:\"))\n",
    "num3 = int(input(\"Enter number 3:\"))\n",
    "\n",
    "lar = num1 if (num1 > num2 and num1 > num3) else (num2 if num2 > num3 else num3)\n",
    "\n",
    "print(\"The largest number is:\", lar)\n"
   ]
  },
  {
   "cell_type": "markdown",
   "id": "629ba247-7243-496c-be13-34ad1542bc5d",
   "metadata": {},
   "source": [
    "## 8) WAP to check is the year is leap year or not"
   ]
  },
  {
   "cell_type": "code",
   "execution_count": 45,
   "id": "862f30ee-51fe-4410-8311-26589889855b",
   "metadata": {},
   "outputs": [
    {
     "name": "stdin",
     "output_type": "stream",
     "text": [
      "Enter Year: 200023\n"
     ]
    },
    {
     "name": "stdout",
     "output_type": "stream",
     "text": [
      "200023  :is not a leap year\n"
     ]
    }
   ],
   "source": [
    "year = int(input(\"Enter Year:\"))\n",
    "\n",
    "if year % 400 == 0 or (year % 4 == 0 and year % 100 != 0):\n",
    "    print(year,\" :is leap year\")\n",
    "else:\n",
    "    print(year,\" :is not a leap year\")"
   ]
  },
  {
   "cell_type": "markdown",
   "id": "754464c5-94d9-42b5-ad74-9d587a6d99ca",
   "metadata": {},
   "source": [
    "## 9) WAP to calculate electricity bill based on Following(take unit from user):\n",
    "### 1) 1-50 unit : 2rs/unit\n",
    "### 2) Next 50-100 unit : 3.5rs/unit\n",
    "### 3) Next 100-200 unit : 5.5rs/unit\n",
    "### 4) Above 200< unit : 8rs/unit"
   ]
  },
  {
   "cell_type": "code",
   "execution_count": 62,
   "id": "ce746453-4a14-4410-a893-50e14c28670e",
   "metadata": {},
   "outputs": [
    {
     "name": "stdin",
     "output_type": "stream",
     "text": [
      "Enter units:  101\n"
     ]
    },
    {
     "name": "stdout",
     "output_type": "stream",
     "text": [
      "280.5\n"
     ]
    }
   ],
   "source": [
    "units = int(input(\"Enter units: \"))\n",
    "bill = 0\n",
    "if units<= 50:\n",
    "    bill = unit * 2\n",
    "elif units <= 100:\n",
    "    bill = (50*2) + ((units - 50) * 3.5)\n",
    "elif units <= 200:\n",
    "    bill = (50 * 2) + (50 * 3.5) + ((units - 100) * 5.5)\n",
    "else:\n",
    "    bill = (50 * 2) + (50 * 3.5) + (100 * 5.5) + ((units - 200) * 8.0)\n",
    "\n",
    "print(bill)"
   ]
  },
  {
   "cell_type": "code",
   "execution_count": null,
   "id": "8c517ae7-0d71-4f29-b369-718cf21c744c",
   "metadata": {},
   "outputs": [],
   "source": []
  }
 ],
 "metadata": {
  "kernelspec": {
   "display_name": "Python 3 (ipykernel)",
   "language": "python",
   "name": "python3"
  },
  "language_info": {
   "codemirror_mode": {
    "name": "ipython",
    "version": 3
   },
   "file_extension": ".py",
   "mimetype": "text/x-python",
   "name": "python",
   "nbconvert_exporter": "python",
   "pygments_lexer": "ipython3",
   "version": "3.13.0"
  }
 },
 "nbformat": 4,
 "nbformat_minor": 5
}
